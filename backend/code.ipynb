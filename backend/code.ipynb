# STEP 1: Mount Google Drive
from google.colab import drive
drive.mount('/content/drive', force_remount=True)

# STEP 2: Install required packages
!apt-get install -y tesseract-ocr
!pip install pytesseract pillow pandas transformers

# STEP 3: Import libraries
import os
import pytesseract
from PIL import Image
import pandas as pd
import re
from transformers import pipeline

# STEP 4: Set paths
pytesseract.pytesseract.tesseract_cmd = "/usr/bin/tesseract"
image_path = '/content/drive/MyDrive/SROIE2019/train/img/X51005255805.jpg'

# STEP 5: Define category list
categories = [
    "Food", "Clothing", "Grocery", "Electricity Bill", "Medical",
    "DTH/ Cable TV", "Gas Cylinder Booking", "Mobile Recharge",
    "Credit Card Bill", "Subscriptions", "Stationery", "Others"
]

# STEP 6: Setup Hugging Face model for zero-shot classification
classifier = pipeline("zero-shot-classification", model="facebook/bart-large-mnli")

# STEP 7: Categorization function using Hugging Face model
def categorize_expense_list(item_list):
    items_text = "\n".join(item_list)
    result = classifier(items_text, candidate_labels=categories)
    return result['labels'][0]  # Return the top category

# STEP 8: OCR + Data extraction
def extract_data_from_single_receipt(image_path):
    image = Image.open(image_path)
    extracted_text = pytesseract.image_to_string(image)

    print("\n--- Extracted Text ---\n")
    print(extracted_text)

    date = None
    total_amount = None
    items = []

    # Date extraction
    date_pattern = r"\b(?:\d{2}/\d{2}/\d{4}|\d{2}-\d{2}-\d{4}|\d{1,2}\s*[A-Za-z]{3,}\s*\d{4}|[A-Za-z]{3,}\s*\d{1,2},\s*\d{4}|[A-Za-z]{3,}\s*\d{4}|\d{4}-\d{2}-\d{2})\b"
    date_match = re.search(date_pattern, extracted_text)
    if date_match:
        date = date_match.group(0)

    # Amount extraction
    all_amounts = []
    lines = extracted_text.strip().splitlines()
    for line in lines:
        matches = re.findall(r'\d+\.\d{2}', line)
        for m in matches:
            all_amounts.append(float(m))

    # Specific total amount extraction by looking for the "TOTAL" keyword
    total_amount_pattern = r"TOTAL\s*[^\d]*(\d+\.\d{2})"
    total_amount_match = re.search(total_amount_pattern, extracted_text, re.IGNORECASE)
    if total_amount_match:
        total_amount = float(total_amount_match.group(1))

    # Fallback to max if no specific total is found
    if not total_amount and all_amounts:
        total_amount = max(all_amounts)

    # Items extraction (only item names and amounts)
    item_pattern = r"([A-Za-z0-9\s]+?)\s+(\d+\.\d{2})"
    item_matches = re.findall(item_pattern, extracted_text)
    items = [{"Item": item[0].strip(), "Amt": float(item[1])} for item in item_matches]

    # Extract just item names for categorization
    item_names = [item["Item"] for item in items]
    category = categorize_expense_list(item_names) if item_names else "Not found"

    return {
        "date": date if date else "Not found",
        "total_amount": total_amount if total_amount else "Not found",
        "category": category,
        "items": items
    }

# STEP 9: Run everything
extract_data_from_single_receipt(image_path)
import pickle

# Save the classifier model to a pickle file
with open('/content/drive/MyDrive/model.pkl', 'wb') as pkl_file:
    pickle.dump(classifier, pkl_file)

print("Model saved successfully as model.pkl")

from google.colab import files

# Path to the model.pkl file on Google Drive
model_path = '/content/drive/MyDrive/model.pkl'

# Download the file to your local machine
files.download(model_path)
